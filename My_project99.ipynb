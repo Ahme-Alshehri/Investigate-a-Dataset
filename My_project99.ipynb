{
 "cells": [
  {
   "cell_type": "markdown",
   "metadata": {},
   "source": [
    "## <font color=blue|yellow>Name / Ahmed Alshehri</font>\n",
    "## <font color=blue|yellow>PROJECT Number / 2</font>\n",
    "## <font color=blue|yellow>Topic/ Investigate a Dataset</font>\n"
   ]
  },
  {
   "cell_type": "code",
   "execution_count": 1,
   "metadata": {},
   "outputs": [],
   "source": [
    "### Library imports\n",
    "\n",
    "import numpy as np\n",
    "import pandas as pd\n",
    "import matplotlib.pyplot as plt \n",
    "\n",
    "%matplotlib inline\n",
    "from datetime import datetime\n",
    "\n",
    "from datetime import datetime"
   ]
  },
  {
   "cell_type": "code",
   "execution_count": 2,
   "metadata": {},
   "outputs": [
    {
     "data": {
      "text/html": [
       "<div>\n",
       "<style scoped>\n",
       "    .dataframe tbody tr th:only-of-type {\n",
       "        vertical-align: middle;\n",
       "    }\n",
       "\n",
       "    .dataframe tbody tr th {\n",
       "        vertical-align: top;\n",
       "    }\n",
       "\n",
       "    .dataframe thead th {\n",
       "        text-align: right;\n",
       "    }\n",
       "</style>\n",
       "<table border=\"1\" class=\"dataframe\">\n",
       "  <thead>\n",
       "    <tr style=\"text-align: right;\">\n",
       "      <th></th>\n",
       "      <th>PatientId</th>\n",
       "      <th>AppointmentID</th>\n",
       "      <th>Gender</th>\n",
       "      <th>ScheduledDay</th>\n",
       "      <th>AppointmentDay</th>\n",
       "      <th>Age</th>\n",
       "      <th>Neighbourhood</th>\n",
       "      <th>Scholarship</th>\n",
       "      <th>Hipertension</th>\n",
       "      <th>Diabetes</th>\n",
       "      <th>Alcoholism</th>\n",
       "      <th>Handcap</th>\n",
       "      <th>SMS_received</th>\n",
       "      <th>No-show</th>\n",
       "    </tr>\n",
       "  </thead>\n",
       "  <tbody>\n",
       "    <tr>\n",
       "      <th>0</th>\n",
       "      <td>2.987250e+13</td>\n",
       "      <td>5642903</td>\n",
       "      <td>F</td>\n",
       "      <td>2016-04-29T18:38:08Z</td>\n",
       "      <td>2016-04-29T00:00:00Z</td>\n",
       "      <td>62</td>\n",
       "      <td>JARDIM DA PENHA</td>\n",
       "      <td>0</td>\n",
       "      <td>1</td>\n",
       "      <td>0</td>\n",
       "      <td>0</td>\n",
       "      <td>0</td>\n",
       "      <td>0</td>\n",
       "      <td>No</td>\n",
       "    </tr>\n",
       "    <tr>\n",
       "      <th>1</th>\n",
       "      <td>5.589978e+14</td>\n",
       "      <td>5642503</td>\n",
       "      <td>M</td>\n",
       "      <td>2016-04-29T16:08:27Z</td>\n",
       "      <td>2016-04-29T00:00:00Z</td>\n",
       "      <td>56</td>\n",
       "      <td>JARDIM DA PENHA</td>\n",
       "      <td>0</td>\n",
       "      <td>0</td>\n",
       "      <td>0</td>\n",
       "      <td>0</td>\n",
       "      <td>0</td>\n",
       "      <td>0</td>\n",
       "      <td>No</td>\n",
       "    </tr>\n",
       "  </tbody>\n",
       "</table>\n",
       "</div>"
      ],
      "text/plain": [
       "      PatientId  AppointmentID Gender          ScheduledDay  \\\n",
       "0  2.987250e+13        5642903      F  2016-04-29T18:38:08Z   \n",
       "1  5.589978e+14        5642503      M  2016-04-29T16:08:27Z   \n",
       "\n",
       "         AppointmentDay  Age    Neighbourhood  Scholarship  Hipertension  \\\n",
       "0  2016-04-29T00:00:00Z   62  JARDIM DA PENHA            0             1   \n",
       "1  2016-04-29T00:00:00Z   56  JARDIM DA PENHA            0             0   \n",
       "\n",
       "   Diabetes  Alcoholism  Handcap  SMS_received No-show  \n",
       "0         0           0        0             0      No  \n",
       "1         0           0        0             0      No  "
      ]
     },
     "execution_count": 2,
     "metadata": {},
     "output_type": "execute_result"
    }
   ],
   "source": [
    "### Load the data\n",
    "\n",
    "dr = pd.read_csv('noshowup.csv')\n",
    "dr.head(2)"
   ]
  },
  {
   "cell_type": "markdown",
   "metadata": {},
   "source": [
    "## <font color=green>Asking Questions</font>"
   ]
  },
  {
   "cell_type": "markdown",
   "metadata": {},
   "source": [
    "\n",
    "#### <font color=green|red> The PDF show this part in details </font>\n",
    "#### <font color=green|blue|red> a) is there any correlation between age and patients attending? </font>\n",
    "#### <font color=green|blue|red> b) Are most patients showing up for their appointment or not? </font>\n",
    "#### <font color=green|blue|red> c) Is there any relation between the age and the gender of the patients attending ? </font>\n",
    "#### <font color=green|blue|red> d)Are most patients receiving SMS for their appointment or not? </font>\n",
    "#### <font color=green|blue|red> e) Is there any relation between Number of patients and the appointment time after registered ?</font>\n",
    "#### <font color=green|blue|red> f) Is there any correlation between the Neighbourhood and the number of patients? </font>\n",
    "\n",
    "\n",
    "\n",
    "\n"
   ]
  },
  {
   "cell_type": "markdown",
   "metadata": {},
   "source": [
    " \n",
    "\n",
    "-----\n",
    "-----\n",
    "\n"
   ]
  },
  {
   "cell_type": "markdown",
   "metadata": {},
   "source": [
    "## <font color=blue>Data Wrangling and EDA</font>\n",
    "### <font color=blue>This part  is about (Gathering , assessing, cleaning ) </font>\n"
   ]
  },
  {
   "cell_type": "markdown",
   "metadata": {},
   "source": [
    "---"
   ]
  },
  {
   "cell_type": "markdown",
   "metadata": {},
   "source": [
    "#### <font color=blue|red|green|pink>Problems with the Data Set:</font>\n",
    "\n",
    "#### <font color=blue|green>1) I replace the value in “No-show” column to be  True or  No for analysis purpose.</font>\n",
    "#### <font color=blue|green>2) The ID patient was Display numbers in scientific (exponential) notation so I change the format because it was Display numbers in scientific (exponential) notation even it will not effect the analysis because it was just for display purpose.</font>\n",
    "#### <font color=blue|green>3) For time series analysis I Convert each column of data  to a suitable datatype and standard time format  , in the “ScheduledDay” column we  have the time in seconds but in the “AppointmentDay” column we have only in days so I make both of them in days.</font>\n",
    "#### <font color=blue|green>4) I found some coloumns names are not clear so I rename  some columns to be more attractive and clear </font>\n",
    "\n"
   ]
  },
  {
   "cell_type": "markdown",
   "metadata": {},
   "source": [
    "---"
   ]
  },
  {
   "cell_type": "code",
   "execution_count": 3,
   "metadata": {},
   "outputs": [
    {
     "data": {
      "text/plain": [
       "['PatientId',\n",
       " 'AppointmentID',\n",
       " 'Gender',\n",
       " 'ScheduledDay',\n",
       " 'AppointmentDay',\n",
       " 'Age',\n",
       " 'Neighbourhood',\n",
       " 'Scholarship',\n",
       " 'Hipertension',\n",
       " 'Diabetes',\n",
       " 'Alcoholism',\n",
       " 'Handcap',\n",
       " 'SMS_received',\n",
       " 'No-show']"
      ]
     },
     "execution_count": 3,
     "metadata": {},
     "output_type": "execute_result"
    }
   ],
   "source": [
    "list(dr.columns.values)\n"
   ]
  },
  {
   "cell_type": "markdown",
   "metadata": {},
   "source": [
    "---"
   ]
  },
  {
   "cell_type": "markdown",
   "metadata": {},
   "source": [
    "<font color=green|yellow>Here, all columns which were clouding up visual space and were not going to be used were removed.\n",
    "</font>"
   ]
  },
  {
   "cell_type": "code",
   "execution_count": 4,
   "metadata": {},
   "outputs": [],
   "source": [
    "dr.drop(['Scholarship','Handcap'],axis=1,inplace=True)\n"
   ]
  },
  {
   "cell_type": "markdown",
   "metadata": {},
   "source": [
    "---"
   ]
  },
  {
   "cell_type": "markdown",
   "metadata": {},
   "source": [
    "<font color=green|yellow>I change the format because it was Display numbers in scientific (exponential) notation, such as Patient_Id columns.\n",
    "</font>"
   ]
  },
  {
   "cell_type": "code",
   "execution_count": 5,
   "metadata": {},
   "outputs": [
    {
     "data": {
      "text/html": [
       "<div>\n",
       "<style scoped>\n",
       "    .dataframe tbody tr th:only-of-type {\n",
       "        vertical-align: middle;\n",
       "    }\n",
       "\n",
       "    .dataframe tbody tr th {\n",
       "        vertical-align: top;\n",
       "    }\n",
       "\n",
       "    .dataframe thead th {\n",
       "        text-align: right;\n",
       "    }\n",
       "</style>\n",
       "<table border=\"1\" class=\"dataframe\">\n",
       "  <thead>\n",
       "    <tr style=\"text-align: right;\">\n",
       "      <th></th>\n",
       "      <th>PatientId</th>\n",
       "      <th>AppointmentID</th>\n",
       "      <th>Gender</th>\n",
       "      <th>ScheduledDay</th>\n",
       "      <th>AppointmentDay</th>\n",
       "      <th>Age</th>\n",
       "      <th>Neighbourhood</th>\n",
       "      <th>Hipertension</th>\n",
       "      <th>Diabetes</th>\n",
       "      <th>Alcoholism</th>\n",
       "      <th>SMS_received</th>\n",
       "      <th>No-show</th>\n",
       "    </tr>\n",
       "  </thead>\n",
       "  <tbody>\n",
       "    <tr>\n",
       "      <th>0</th>\n",
       "      <td>29872499824296.0</td>\n",
       "      <td>5642903</td>\n",
       "      <td>F</td>\n",
       "      <td>2016-04-29T18:38:08Z</td>\n",
       "      <td>2016-04-29T00:00:00Z</td>\n",
       "      <td>62</td>\n",
       "      <td>JARDIM DA PENHA</td>\n",
       "      <td>1</td>\n",
       "      <td>0</td>\n",
       "      <td>0</td>\n",
       "      <td>0</td>\n",
       "      <td>No</td>\n",
       "    </tr>\n",
       "    <tr>\n",
       "      <th>1</th>\n",
       "      <td>558997776694438.0</td>\n",
       "      <td>5642503</td>\n",
       "      <td>M</td>\n",
       "      <td>2016-04-29T16:08:27Z</td>\n",
       "      <td>2016-04-29T00:00:00Z</td>\n",
       "      <td>56</td>\n",
       "      <td>JARDIM DA PENHA</td>\n",
       "      <td>0</td>\n",
       "      <td>0</td>\n",
       "      <td>0</td>\n",
       "      <td>0</td>\n",
       "      <td>No</td>\n",
       "    </tr>\n",
       "    <tr>\n",
       "      <th>2</th>\n",
       "      <td>4262962299951.0</td>\n",
       "      <td>5642549</td>\n",
       "      <td>F</td>\n",
       "      <td>2016-04-29T16:19:04Z</td>\n",
       "      <td>2016-04-29T00:00:00Z</td>\n",
       "      <td>62</td>\n",
       "      <td>MATA DA PRAIA</td>\n",
       "      <td>0</td>\n",
       "      <td>0</td>\n",
       "      <td>0</td>\n",
       "      <td>0</td>\n",
       "      <td>No</td>\n",
       "    </tr>\n",
       "    <tr>\n",
       "      <th>3</th>\n",
       "      <td>867951213174.0</td>\n",
       "      <td>5642828</td>\n",
       "      <td>F</td>\n",
       "      <td>2016-04-29T17:29:31Z</td>\n",
       "      <td>2016-04-29T00:00:00Z</td>\n",
       "      <td>8</td>\n",
       "      <td>PONTAL DE CAMBURI</td>\n",
       "      <td>0</td>\n",
       "      <td>0</td>\n",
       "      <td>0</td>\n",
       "      <td>0</td>\n",
       "      <td>No</td>\n",
       "    </tr>\n",
       "    <tr>\n",
       "      <th>4</th>\n",
       "      <td>8841186448183.0</td>\n",
       "      <td>5642494</td>\n",
       "      <td>F</td>\n",
       "      <td>2016-04-29T16:07:23Z</td>\n",
       "      <td>2016-04-29T00:00:00Z</td>\n",
       "      <td>56</td>\n",
       "      <td>JARDIM DA PENHA</td>\n",
       "      <td>1</td>\n",
       "      <td>1</td>\n",
       "      <td>0</td>\n",
       "      <td>0</td>\n",
       "      <td>No</td>\n",
       "    </tr>\n",
       "    <tr>\n",
       "      <th>5</th>\n",
       "      <td>95985133231274.0</td>\n",
       "      <td>5626772</td>\n",
       "      <td>F</td>\n",
       "      <td>2016-04-27T08:36:51Z</td>\n",
       "      <td>2016-04-29T00:00:00Z</td>\n",
       "      <td>76</td>\n",
       "      <td>REPÚBLICA</td>\n",
       "      <td>1</td>\n",
       "      <td>0</td>\n",
       "      <td>0</td>\n",
       "      <td>0</td>\n",
       "      <td>No</td>\n",
       "    </tr>\n",
       "    <tr>\n",
       "      <th>6</th>\n",
       "      <td>733688164476661.0</td>\n",
       "      <td>5630279</td>\n",
       "      <td>F</td>\n",
       "      <td>2016-04-27T15:05:12Z</td>\n",
       "      <td>2016-04-29T00:00:00Z</td>\n",
       "      <td>23</td>\n",
       "      <td>GOIABEIRAS</td>\n",
       "      <td>0</td>\n",
       "      <td>0</td>\n",
       "      <td>0</td>\n",
       "      <td>0</td>\n",
       "      <td>Yes</td>\n",
       "    </tr>\n",
       "    <tr>\n",
       "      <th>7</th>\n",
       "      <td>3449833394123.0</td>\n",
       "      <td>5630575</td>\n",
       "      <td>F</td>\n",
       "      <td>2016-04-27T15:39:58Z</td>\n",
       "      <td>2016-04-29T00:00:00Z</td>\n",
       "      <td>39</td>\n",
       "      <td>GOIABEIRAS</td>\n",
       "      <td>0</td>\n",
       "      <td>0</td>\n",
       "      <td>0</td>\n",
       "      <td>0</td>\n",
       "      <td>Yes</td>\n",
       "    </tr>\n",
       "    <tr>\n",
       "      <th>8</th>\n",
       "      <td>56394729949972.0</td>\n",
       "      <td>5638447</td>\n",
       "      <td>F</td>\n",
       "      <td>2016-04-29T08:02:16Z</td>\n",
       "      <td>2016-04-29T00:00:00Z</td>\n",
       "      <td>21</td>\n",
       "      <td>ANDORINHAS</td>\n",
       "      <td>0</td>\n",
       "      <td>0</td>\n",
       "      <td>0</td>\n",
       "      <td>0</td>\n",
       "      <td>No</td>\n",
       "    </tr>\n",
       "    <tr>\n",
       "      <th>9</th>\n",
       "      <td>78124564369297.0</td>\n",
       "      <td>5629123</td>\n",
       "      <td>F</td>\n",
       "      <td>2016-04-27T12:48:25Z</td>\n",
       "      <td>2016-04-29T00:00:00Z</td>\n",
       "      <td>19</td>\n",
       "      <td>CONQUISTA</td>\n",
       "      <td>0</td>\n",
       "      <td>0</td>\n",
       "      <td>0</td>\n",
       "      <td>0</td>\n",
       "      <td>No</td>\n",
       "    </tr>\n",
       "  </tbody>\n",
       "</table>\n",
       "</div>"
      ],
      "text/plain": [
       "          PatientId  AppointmentID Gender          ScheduledDay  \\\n",
       "0  29872499824296.0        5642903      F  2016-04-29T18:38:08Z   \n",
       "1 558997776694438.0        5642503      M  2016-04-29T16:08:27Z   \n",
       "2   4262962299951.0        5642549      F  2016-04-29T16:19:04Z   \n",
       "3    867951213174.0        5642828      F  2016-04-29T17:29:31Z   \n",
       "4   8841186448183.0        5642494      F  2016-04-29T16:07:23Z   \n",
       "5  95985133231274.0        5626772      F  2016-04-27T08:36:51Z   \n",
       "6 733688164476661.0        5630279      F  2016-04-27T15:05:12Z   \n",
       "7   3449833394123.0        5630575      F  2016-04-27T15:39:58Z   \n",
       "8  56394729949972.0        5638447      F  2016-04-29T08:02:16Z   \n",
       "9  78124564369297.0        5629123      F  2016-04-27T12:48:25Z   \n",
       "\n",
       "         AppointmentDay  Age      Neighbourhood  Hipertension  Diabetes  \\\n",
       "0  2016-04-29T00:00:00Z   62    JARDIM DA PENHA             1         0   \n",
       "1  2016-04-29T00:00:00Z   56    JARDIM DA PENHA             0         0   \n",
       "2  2016-04-29T00:00:00Z   62      MATA DA PRAIA             0         0   \n",
       "3  2016-04-29T00:00:00Z    8  PONTAL DE CAMBURI             0         0   \n",
       "4  2016-04-29T00:00:00Z   56    JARDIM DA PENHA             1         1   \n",
       "5  2016-04-29T00:00:00Z   76          REPÚBLICA             1         0   \n",
       "6  2016-04-29T00:00:00Z   23         GOIABEIRAS             0         0   \n",
       "7  2016-04-29T00:00:00Z   39         GOIABEIRAS             0         0   \n",
       "8  2016-04-29T00:00:00Z   21         ANDORINHAS             0         0   \n",
       "9  2016-04-29T00:00:00Z   19          CONQUISTA             0         0   \n",
       "\n",
       "   Alcoholism  SMS_received No-show  \n",
       "0           0             0      No  \n",
       "1           0             0      No  \n",
       "2           0             0      No  \n",
       "3           0             0      No  \n",
       "4           0             0      No  \n",
       "5           0             0      No  \n",
       "6           0             0     Yes  \n",
       "7           0             0     Yes  \n",
       "8           0             0      No  \n",
       "9           0             0      No  "
      ]
     },
     "execution_count": 5,
     "metadata": {},
     "output_type": "execute_result"
    }
   ],
   "source": [
    "pd.set_option('float_format', '{}'.format)\n",
    "\n",
    "dr.head(10)"
   ]
  },
  {
   "cell_type": "code",
   "execution_count": 6,
   "metadata": {},
   "outputs": [
    {
     "data": {
      "text/plain": [
       "(110527, 12)"
      ]
     },
     "execution_count": 6,
     "metadata": {},
     "output_type": "execute_result"
    }
   ],
   "source": [
    "dr.shape"
   ]
  },
  {
   "cell_type": "markdown",
   "metadata": {},
   "source": [
    "---\n",
    "\n",
    "\n",
    "<font color=blue>To check which columns have missing values \n",
    "</font>"
   ]
  },
  {
   "cell_type": "code",
   "execution_count": 7,
   "metadata": {},
   "outputs": [
    {
     "name": "stdout",
     "output_type": "stream",
     "text": [
      "<class 'pandas.core.frame.DataFrame'>\n",
      "RangeIndex: 110527 entries, 0 to 110526\n",
      "Data columns (total 12 columns):\n",
      "PatientId         110527 non-null float64\n",
      "AppointmentID     110527 non-null int64\n",
      "Gender            110527 non-null object\n",
      "ScheduledDay      110527 non-null object\n",
      "AppointmentDay    110527 non-null object\n",
      "Age               110527 non-null int64\n",
      "Neighbourhood     110527 non-null object\n",
      "Hipertension      110527 non-null int64\n",
      "Diabetes          110527 non-null int64\n",
      "Alcoholism        110527 non-null int64\n",
      "SMS_received      110527 non-null int64\n",
      "No-show           110527 non-null object\n",
      "dtypes: float64(1), int64(6), object(5)\n",
      "memory usage: 10.1+ MB\n"
     ]
    }
   ],
   "source": [
    "dr.info()"
   ]
  },
  {
   "cell_type": "markdown",
   "metadata": {},
   "source": [
    "---\n",
    "\n",
    "<font color=blue>This returns the datatypes of the columns</font>"
   ]
  },
  {
   "cell_type": "code",
   "execution_count": 8,
   "metadata": {},
   "outputs": [
    {
     "data": {
      "text/plain": [
       "PatientId         float64\n",
       "AppointmentID       int64\n",
       "Gender             object\n",
       "ScheduledDay       object\n",
       "AppointmentDay     object\n",
       "Age                 int64\n",
       "Neighbourhood      object\n",
       "Hipertension        int64\n",
       "Diabetes            int64\n",
       "Alcoholism          int64\n",
       "SMS_received        int64\n",
       "No-show            object\n",
       "dtype: object"
      ]
     },
     "execution_count": 8,
     "metadata": {},
     "output_type": "execute_result"
    }
   ],
   "source": [
    "dr.dtypes"
   ]
  },
  {
   "cell_type": "markdown",
   "metadata": {},
   "source": [
    "---\n",
    "\n",
    "\n",
    "<font color=blue>To check for duplicates in the data</font>"
   ]
  },
  {
   "cell_type": "code",
   "execution_count": 9,
   "metadata": {},
   "outputs": [
    {
     "data": {
      "text/plain": [
       "0"
      ]
     },
     "execution_count": 9,
     "metadata": {},
     "output_type": "execute_result"
    }
   ],
   "source": [
    "sum(dr.duplicated())"
   ]
  },
  {
   "cell_type": "markdown",
   "metadata": {},
   "source": [
    " ---\n",
    " \n",
    " <font color=red|green>No duplicate rows  so no rows will need to  drop</font>\n"
   ]
  },
  {
   "cell_type": "code",
   "execution_count": 10,
   "metadata": {},
   "outputs": [
    {
     "data": {
      "text/plain": [
       "PatientId          62299\n",
       "AppointmentID     110527\n",
       "Gender                 2\n",
       "ScheduledDay      103549\n",
       "AppointmentDay        27\n",
       "Age                  104\n",
       "Neighbourhood         81\n",
       "Hipertension           2\n",
       "Diabetes               2\n",
       "Alcoholism             2\n",
       "SMS_received           2\n",
       "No-show                2\n",
       "dtype: int64"
      ]
     },
     "execution_count": 10,
     "metadata": {},
     "output_type": "execute_result"
    }
   ],
   "source": [
    "dr.nunique()"
   ]
  },
  {
   "cell_type": "markdown",
   "metadata": {},
   "source": [
    "---\n",
    "\n",
    "\n",
    "<font color=blue|green>The following returns useful descriptive statistics for each column of data\n",
    "</font>\n"
   ]
  },
  {
   "cell_type": "code",
   "execution_count": 11,
   "metadata": {},
   "outputs": [
    {
     "data": {
      "text/html": [
       "<div>\n",
       "<style scoped>\n",
       "    .dataframe tbody tr th:only-of-type {\n",
       "        vertical-align: middle;\n",
       "    }\n",
       "\n",
       "    .dataframe tbody tr th {\n",
       "        vertical-align: top;\n",
       "    }\n",
       "\n",
       "    .dataframe thead th {\n",
       "        text-align: right;\n",
       "    }\n",
       "</style>\n",
       "<table border=\"1\" class=\"dataframe\">\n",
       "  <thead>\n",
       "    <tr style=\"text-align: right;\">\n",
       "      <th></th>\n",
       "      <th>PatientId</th>\n",
       "      <th>AppointmentID</th>\n",
       "      <th>Age</th>\n",
       "      <th>Hipertension</th>\n",
       "      <th>Diabetes</th>\n",
       "      <th>Alcoholism</th>\n",
       "      <th>SMS_received</th>\n",
       "    </tr>\n",
       "  </thead>\n",
       "  <tbody>\n",
       "    <tr>\n",
       "      <th>count</th>\n",
       "      <td>110527.0</td>\n",
       "      <td>110527.0</td>\n",
       "      <td>110527.0</td>\n",
       "      <td>110527.0</td>\n",
       "      <td>110527.0</td>\n",
       "      <td>110527.0</td>\n",
       "      <td>110527.0</td>\n",
       "    </tr>\n",
       "    <tr>\n",
       "      <th>mean</th>\n",
       "      <td>147496265710392.38</td>\n",
       "      <td>5675305.123426855</td>\n",
       "      <td>37.08887421173107</td>\n",
       "      <td>0.1972459218109602</td>\n",
       "      <td>0.07186479321794674</td>\n",
       "      <td>0.030399811810688793</td>\n",
       "      <td>0.32102563174608917</td>\n",
       "    </tr>\n",
       "    <tr>\n",
       "      <th>std</th>\n",
       "      <td>256094920291738.88</td>\n",
       "      <td>71295.75153966916</td>\n",
       "      <td>23.110204963681948</td>\n",
       "      <td>0.39792134994753325</td>\n",
       "      <td>0.2582650735076741</td>\n",
       "      <td>0.17168555541436223</td>\n",
       "      <td>0.46687273170178245</td>\n",
       "    </tr>\n",
       "    <tr>\n",
       "      <th>min</th>\n",
       "      <td>39217.84439</td>\n",
       "      <td>5030230.0</td>\n",
       "      <td>-1.0</td>\n",
       "      <td>0.0</td>\n",
       "      <td>0.0</td>\n",
       "      <td>0.0</td>\n",
       "      <td>0.0</td>\n",
       "    </tr>\n",
       "    <tr>\n",
       "      <th>25%</th>\n",
       "      <td>4172614444192.0</td>\n",
       "      <td>5640285.5</td>\n",
       "      <td>18.0</td>\n",
       "      <td>0.0</td>\n",
       "      <td>0.0</td>\n",
       "      <td>0.0</td>\n",
       "      <td>0.0</td>\n",
       "    </tr>\n",
       "    <tr>\n",
       "      <th>50%</th>\n",
       "      <td>31731838713978.0</td>\n",
       "      <td>5680573.0</td>\n",
       "      <td>37.0</td>\n",
       "      <td>0.0</td>\n",
       "      <td>0.0</td>\n",
       "      <td>0.0</td>\n",
       "      <td>0.0</td>\n",
       "    </tr>\n",
       "    <tr>\n",
       "      <th>75%</th>\n",
       "      <td>94391720898175.0</td>\n",
       "      <td>5725523.5</td>\n",
       "      <td>55.0</td>\n",
       "      <td>0.0</td>\n",
       "      <td>0.0</td>\n",
       "      <td>0.0</td>\n",
       "      <td>1.0</td>\n",
       "    </tr>\n",
       "    <tr>\n",
       "      <th>max</th>\n",
       "      <td>999981631772427.0</td>\n",
       "      <td>5790484.0</td>\n",
       "      <td>115.0</td>\n",
       "      <td>1.0</td>\n",
       "      <td>1.0</td>\n",
       "      <td>1.0</td>\n",
       "      <td>1.0</td>\n",
       "    </tr>\n",
       "  </tbody>\n",
       "</table>\n",
       "</div>"
      ],
      "text/plain": [
       "               PatientId     AppointmentID                Age  \\\n",
       "count           110527.0          110527.0           110527.0   \n",
       "mean  147496265710392.38 5675305.123426855  37.08887421173107   \n",
       "std   256094920291738.88 71295.75153966916 23.110204963681948   \n",
       "min          39217.84439         5030230.0               -1.0   \n",
       "25%      4172614444192.0         5640285.5               18.0   \n",
       "50%     31731838713978.0         5680573.0               37.0   \n",
       "75%     94391720898175.0         5725523.5               55.0   \n",
       "max    999981631772427.0         5790484.0              115.0   \n",
       "\n",
       "             Hipertension            Diabetes           Alcoholism  \\\n",
       "count            110527.0            110527.0             110527.0   \n",
       "mean   0.1972459218109602 0.07186479321794674 0.030399811810688793   \n",
       "std   0.39792134994753325  0.2582650735076741  0.17168555541436223   \n",
       "min                   0.0                 0.0                  0.0   \n",
       "25%                   0.0                 0.0                  0.0   \n",
       "50%                   0.0                 0.0                  0.0   \n",
       "75%                   0.0                 0.0                  0.0   \n",
       "max                   1.0                 1.0                  1.0   \n",
       "\n",
       "             SMS_received  \n",
       "count            110527.0  \n",
       "mean  0.32102563174608917  \n",
       "std   0.46687273170178245  \n",
       "min                   0.0  \n",
       "25%                   0.0  \n",
       "50%                   0.0  \n",
       "75%                   1.0  \n",
       "max                   1.0  "
      ]
     },
     "execution_count": 11,
     "metadata": {},
     "output_type": "execute_result"
    }
   ],
   "source": [
    "dr.describe()"
   ]
  },
  {
   "cell_type": "markdown",
   "metadata": {},
   "source": [
    "---\n",
    "\n",
    "\n",
    "\n",
    "\n",
    "#### Time series analysis\n"
   ]
  },
  {
   "cell_type": "markdown",
   "metadata": {},
   "source": [
    "\n",
    "<font color=blue-green>I Converted each column of data  to a suitable datatype\n",
    "In the ScheduledDay we  have the time in seconds but in the AppointmentDay we have only in days so I make both of them in days only</font>"
   ]
  },
  {
   "cell_type": "code",
   "execution_count": 12,
   "metadata": {},
   "outputs": [
    {
     "data": {
      "text/html": [
       "<div>\n",
       "<style scoped>\n",
       "    .dataframe tbody tr th:only-of-type {\n",
       "        vertical-align: middle;\n",
       "    }\n",
       "\n",
       "    .dataframe tbody tr th {\n",
       "        vertical-align: top;\n",
       "    }\n",
       "\n",
       "    .dataframe thead th {\n",
       "        text-align: right;\n",
       "    }\n",
       "</style>\n",
       "<table border=\"1\" class=\"dataframe\">\n",
       "  <thead>\n",
       "    <tr style=\"text-align: right;\">\n",
       "      <th></th>\n",
       "      <th>PatientId</th>\n",
       "      <th>AppointmentID</th>\n",
       "      <th>Gender</th>\n",
       "      <th>ScheduledDay</th>\n",
       "      <th>AppointmentDay</th>\n",
       "      <th>Age</th>\n",
       "      <th>Neighbourhood</th>\n",
       "      <th>Hipertension</th>\n",
       "      <th>Diabetes</th>\n",
       "      <th>Alcoholism</th>\n",
       "      <th>SMS_received</th>\n",
       "      <th>No-show</th>\n",
       "    </tr>\n",
       "  </thead>\n",
       "  <tbody>\n",
       "    <tr>\n",
       "      <th>0</th>\n",
       "      <td>29872499824296.0</td>\n",
       "      <td>5642903</td>\n",
       "      <td>F</td>\n",
       "      <td>2016-04-29</td>\n",
       "      <td>2016-04-29</td>\n",
       "      <td>62</td>\n",
       "      <td>JARDIM DA PENHA</td>\n",
       "      <td>1</td>\n",
       "      <td>0</td>\n",
       "      <td>0</td>\n",
       "      <td>0</td>\n",
       "      <td>No</td>\n",
       "    </tr>\n",
       "    <tr>\n",
       "      <th>1</th>\n",
       "      <td>558997776694438.0</td>\n",
       "      <td>5642503</td>\n",
       "      <td>M</td>\n",
       "      <td>2016-04-29</td>\n",
       "      <td>2016-04-29</td>\n",
       "      <td>56</td>\n",
       "      <td>JARDIM DA PENHA</td>\n",
       "      <td>0</td>\n",
       "      <td>0</td>\n",
       "      <td>0</td>\n",
       "      <td>0</td>\n",
       "      <td>No</td>\n",
       "    </tr>\n",
       "    <tr>\n",
       "      <th>2</th>\n",
       "      <td>4262962299951.0</td>\n",
       "      <td>5642549</td>\n",
       "      <td>F</td>\n",
       "      <td>2016-04-29</td>\n",
       "      <td>2016-04-29</td>\n",
       "      <td>62</td>\n",
       "      <td>MATA DA PRAIA</td>\n",
       "      <td>0</td>\n",
       "      <td>0</td>\n",
       "      <td>0</td>\n",
       "      <td>0</td>\n",
       "      <td>No</td>\n",
       "    </tr>\n",
       "    <tr>\n",
       "      <th>3</th>\n",
       "      <td>867951213174.0</td>\n",
       "      <td>5642828</td>\n",
       "      <td>F</td>\n",
       "      <td>2016-04-29</td>\n",
       "      <td>2016-04-29</td>\n",
       "      <td>8</td>\n",
       "      <td>PONTAL DE CAMBURI</td>\n",
       "      <td>0</td>\n",
       "      <td>0</td>\n",
       "      <td>0</td>\n",
       "      <td>0</td>\n",
       "      <td>No</td>\n",
       "    </tr>\n",
       "    <tr>\n",
       "      <th>4</th>\n",
       "      <td>8841186448183.0</td>\n",
       "      <td>5642494</td>\n",
       "      <td>F</td>\n",
       "      <td>2016-04-29</td>\n",
       "      <td>2016-04-29</td>\n",
       "      <td>56</td>\n",
       "      <td>JARDIM DA PENHA</td>\n",
       "      <td>1</td>\n",
       "      <td>1</td>\n",
       "      <td>0</td>\n",
       "      <td>0</td>\n",
       "      <td>No</td>\n",
       "    </tr>\n",
       "  </tbody>\n",
       "</table>\n",
       "</div>"
      ],
      "text/plain": [
       "          PatientId  AppointmentID Gender ScheduledDay AppointmentDay  Age  \\\n",
       "0  29872499824296.0        5642903      F   2016-04-29     2016-04-29   62   \n",
       "1 558997776694438.0        5642503      M   2016-04-29     2016-04-29   56   \n",
       "2   4262962299951.0        5642549      F   2016-04-29     2016-04-29   62   \n",
       "3    867951213174.0        5642828      F   2016-04-29     2016-04-29    8   \n",
       "4   8841186448183.0        5642494      F   2016-04-29     2016-04-29   56   \n",
       "\n",
       "       Neighbourhood  Hipertension  Diabetes  Alcoholism  SMS_received No-show  \n",
       "0    JARDIM DA PENHA             1         0           0             0      No  \n",
       "1    JARDIM DA PENHA             0         0           0             0      No  \n",
       "2      MATA DA PRAIA             0         0           0             0      No  \n",
       "3  PONTAL DE CAMBURI             0         0           0             0      No  \n",
       "4    JARDIM DA PENHA             1         1           0             0      No  "
      ]
     },
     "execution_count": 12,
     "metadata": {},
     "output_type": "execute_result"
    }
   ],
   "source": [
    "\n",
    "dr['ScheduledDay']=pd.to_datetime(dr['ScheduledDay']).dt.date\n",
    "dr['AppointmentDay']=pd.to_datetime(dr['AppointmentDay']).dt.date\n",
    "dr.head()"
   ]
  },
  {
   "cell_type": "markdown",
   "metadata": {},
   "source": [
    "---\n",
    "\n",
    "\n",
    "<font color=red>I changed the data types to integer so I can analysis and compare two coloumns with same specific types\n",
    "</font>\n"
   ]
  },
  {
   "cell_type": "code",
   "execution_count": 13,
   "metadata": {
    "scrolled": true
   },
   "outputs": [
    {
     "data": {
      "text/html": [
       "<div>\n",
       "<style scoped>\n",
       "    .dataframe tbody tr th:only-of-type {\n",
       "        vertical-align: middle;\n",
       "    }\n",
       "\n",
       "    .dataframe tbody tr th {\n",
       "        vertical-align: top;\n",
       "    }\n",
       "\n",
       "    .dataframe thead th {\n",
       "        text-align: right;\n",
       "    }\n",
       "</style>\n",
       "<table border=\"1\" class=\"dataframe\">\n",
       "  <thead>\n",
       "    <tr style=\"text-align: right;\">\n",
       "      <th></th>\n",
       "      <th>PatientId</th>\n",
       "      <th>AppointmentID</th>\n",
       "      <th>Gender</th>\n",
       "      <th>ScheduledDay</th>\n",
       "      <th>AppointmentDay</th>\n",
       "      <th>Age</th>\n",
       "      <th>Neighbourhood</th>\n",
       "      <th>Hipertension</th>\n",
       "      <th>Diabetes</th>\n",
       "      <th>Alcoholism</th>\n",
       "      <th>SMS_received</th>\n",
       "      <th>No-show</th>\n",
       "    </tr>\n",
       "  </thead>\n",
       "  <tbody>\n",
       "    <tr>\n",
       "      <th>0</th>\n",
       "      <td>29872499824296.0</td>\n",
       "      <td>5642903</td>\n",
       "      <td>F</td>\n",
       "      <td>2016-04-29</td>\n",
       "      <td>2016-04-29</td>\n",
       "      <td>62</td>\n",
       "      <td>JARDIM DA PENHA</td>\n",
       "      <td>1</td>\n",
       "      <td>0</td>\n",
       "      <td>0</td>\n",
       "      <td>0</td>\n",
       "      <td>False</td>\n",
       "    </tr>\n",
       "    <tr>\n",
       "      <th>1</th>\n",
       "      <td>558997776694438.0</td>\n",
       "      <td>5642503</td>\n",
       "      <td>M</td>\n",
       "      <td>2016-04-29</td>\n",
       "      <td>2016-04-29</td>\n",
       "      <td>56</td>\n",
       "      <td>JARDIM DA PENHA</td>\n",
       "      <td>0</td>\n",
       "      <td>0</td>\n",
       "      <td>0</td>\n",
       "      <td>0</td>\n",
       "      <td>False</td>\n",
       "    </tr>\n",
       "    <tr>\n",
       "      <th>2</th>\n",
       "      <td>4262962299951.0</td>\n",
       "      <td>5642549</td>\n",
       "      <td>F</td>\n",
       "      <td>2016-04-29</td>\n",
       "      <td>2016-04-29</td>\n",
       "      <td>62</td>\n",
       "      <td>MATA DA PRAIA</td>\n",
       "      <td>0</td>\n",
       "      <td>0</td>\n",
       "      <td>0</td>\n",
       "      <td>0</td>\n",
       "      <td>False</td>\n",
       "    </tr>\n",
       "    <tr>\n",
       "      <th>3</th>\n",
       "      <td>867951213174.0</td>\n",
       "      <td>5642828</td>\n",
       "      <td>F</td>\n",
       "      <td>2016-04-29</td>\n",
       "      <td>2016-04-29</td>\n",
       "      <td>8</td>\n",
       "      <td>PONTAL DE CAMBURI</td>\n",
       "      <td>0</td>\n",
       "      <td>0</td>\n",
       "      <td>0</td>\n",
       "      <td>0</td>\n",
       "      <td>False</td>\n",
       "    </tr>\n",
       "    <tr>\n",
       "      <th>4</th>\n",
       "      <td>8841186448183.0</td>\n",
       "      <td>5642494</td>\n",
       "      <td>F</td>\n",
       "      <td>2016-04-29</td>\n",
       "      <td>2016-04-29</td>\n",
       "      <td>56</td>\n",
       "      <td>JARDIM DA PENHA</td>\n",
       "      <td>1</td>\n",
       "      <td>1</td>\n",
       "      <td>0</td>\n",
       "      <td>0</td>\n",
       "      <td>False</td>\n",
       "    </tr>\n",
       "  </tbody>\n",
       "</table>\n",
       "</div>"
      ],
      "text/plain": [
       "          PatientId  AppointmentID Gender ScheduledDay AppointmentDay  Age  \\\n",
       "0  29872499824296.0        5642903      F   2016-04-29     2016-04-29   62   \n",
       "1 558997776694438.0        5642503      M   2016-04-29     2016-04-29   56   \n",
       "2   4262962299951.0        5642549      F   2016-04-29     2016-04-29   62   \n",
       "3    867951213174.0        5642828      F   2016-04-29     2016-04-29    8   \n",
       "4   8841186448183.0        5642494      F   2016-04-29     2016-04-29   56   \n",
       "\n",
       "       Neighbourhood  Hipertension  Diabetes  Alcoholism  SMS_received  \\\n",
       "0    JARDIM DA PENHA             1         0           0             0   \n",
       "1    JARDIM DA PENHA             0         0           0             0   \n",
       "2      MATA DA PRAIA             0         0           0             0   \n",
       "3  PONTAL DE CAMBURI             0         0           0             0   \n",
       "4    JARDIM DA PENHA             1         1           0             0   \n",
       "\n",
       "   No-show  \n",
       "0    False  \n",
       "1    False  \n",
       "2    False  \n",
       "3    False  \n",
       "4    False  "
      ]
     },
     "execution_count": 13,
     "metadata": {},
     "output_type": "execute_result"
    }
   ],
   "source": [
    "dr['No-show'] = dr['No-show'].map({'Yes': True, 'No': False})\n",
    "\n",
    "dr.head(5)"
   ]
  },
  {
   "cell_type": "markdown",
   "metadata": {},
   "source": [
    "---\n",
    "\n",
    "\n",
    "#### I found some coloumns names are not clear so I rename  some columns to be more attractive and clear \n",
    "##### <font color=pink>AppointmentID to Appointment_ID</font>\n",
    "##### <font color=green>PatientId to Patient Id</font>\n",
    "##### <font color=blue>ScheduledDay to Scheduled_Day</font>\n",
    "##### <font color=yellow>AppointmentDay to Appointment_Day</font>\n",
    "#####  <font color=red>No-show to Attendance</font>\n"
   ]
  },
  {
   "cell_type": "code",
   "execution_count": 14,
   "metadata": {},
   "outputs": [
    {
     "data": {
      "text/html": [
       "<div>\n",
       "<style scoped>\n",
       "    .dataframe tbody tr th:only-of-type {\n",
       "        vertical-align: middle;\n",
       "    }\n",
       "\n",
       "    .dataframe tbody tr th {\n",
       "        vertical-align: top;\n",
       "    }\n",
       "\n",
       "    .dataframe thead th {\n",
       "        text-align: right;\n",
       "    }\n",
       "</style>\n",
       "<table border=\"1\" class=\"dataframe\">\n",
       "  <thead>\n",
       "    <tr style=\"text-align: right;\">\n",
       "      <th></th>\n",
       "      <th>Patient_Id</th>\n",
       "      <th>Appointment_ID</th>\n",
       "      <th>Gender</th>\n",
       "      <th>Scheduled_Day</th>\n",
       "      <th>Appointment_Day</th>\n",
       "      <th>Age</th>\n",
       "      <th>Neighbourhood</th>\n",
       "      <th>Hipertension</th>\n",
       "      <th>Diabetes</th>\n",
       "      <th>Alcoholism</th>\n",
       "      <th>SMS_received</th>\n",
       "      <th>Attendance</th>\n",
       "    </tr>\n",
       "  </thead>\n",
       "  <tbody>\n",
       "    <tr>\n",
       "      <th>0</th>\n",
       "      <td>29872499824296.0</td>\n",
       "      <td>5642903</td>\n",
       "      <td>F</td>\n",
       "      <td>2016-04-29</td>\n",
       "      <td>2016-04-29</td>\n",
       "      <td>62</td>\n",
       "      <td>JARDIM DA PENHA</td>\n",
       "      <td>1</td>\n",
       "      <td>0</td>\n",
       "      <td>0</td>\n",
       "      <td>0</td>\n",
       "      <td>False</td>\n",
       "    </tr>\n",
       "    <tr>\n",
       "      <th>1</th>\n",
       "      <td>558997776694438.0</td>\n",
       "      <td>5642503</td>\n",
       "      <td>M</td>\n",
       "      <td>2016-04-29</td>\n",
       "      <td>2016-04-29</td>\n",
       "      <td>56</td>\n",
       "      <td>JARDIM DA PENHA</td>\n",
       "      <td>0</td>\n",
       "      <td>0</td>\n",
       "      <td>0</td>\n",
       "      <td>0</td>\n",
       "      <td>False</td>\n",
       "    </tr>\n",
       "    <tr>\n",
       "      <th>2</th>\n",
       "      <td>4262962299951.0</td>\n",
       "      <td>5642549</td>\n",
       "      <td>F</td>\n",
       "      <td>2016-04-29</td>\n",
       "      <td>2016-04-29</td>\n",
       "      <td>62</td>\n",
       "      <td>MATA DA PRAIA</td>\n",
       "      <td>0</td>\n",
       "      <td>0</td>\n",
       "      <td>0</td>\n",
       "      <td>0</td>\n",
       "      <td>False</td>\n",
       "    </tr>\n",
       "    <tr>\n",
       "      <th>3</th>\n",
       "      <td>867951213174.0</td>\n",
       "      <td>5642828</td>\n",
       "      <td>F</td>\n",
       "      <td>2016-04-29</td>\n",
       "      <td>2016-04-29</td>\n",
       "      <td>8</td>\n",
       "      <td>PONTAL DE CAMBURI</td>\n",
       "      <td>0</td>\n",
       "      <td>0</td>\n",
       "      <td>0</td>\n",
       "      <td>0</td>\n",
       "      <td>False</td>\n",
       "    </tr>\n",
       "    <tr>\n",
       "      <th>4</th>\n",
       "      <td>8841186448183.0</td>\n",
       "      <td>5642494</td>\n",
       "      <td>F</td>\n",
       "      <td>2016-04-29</td>\n",
       "      <td>2016-04-29</td>\n",
       "      <td>56</td>\n",
       "      <td>JARDIM DA PENHA</td>\n",
       "      <td>1</td>\n",
       "      <td>1</td>\n",
       "      <td>0</td>\n",
       "      <td>0</td>\n",
       "      <td>False</td>\n",
       "    </tr>\n",
       "  </tbody>\n",
       "</table>\n",
       "</div>"
      ],
      "text/plain": [
       "         Patient_Id  Appointment_ID Gender Scheduled_Day Appointment_Day  Age  \\\n",
       "0  29872499824296.0         5642903      F    2016-04-29      2016-04-29   62   \n",
       "1 558997776694438.0         5642503      M    2016-04-29      2016-04-29   56   \n",
       "2   4262962299951.0         5642549      F    2016-04-29      2016-04-29   62   \n",
       "3    867951213174.0         5642828      F    2016-04-29      2016-04-29    8   \n",
       "4   8841186448183.0         5642494      F    2016-04-29      2016-04-29   56   \n",
       "\n",
       "       Neighbourhood  Hipertension  Diabetes  Alcoholism  SMS_received  \\\n",
       "0    JARDIM DA PENHA             1         0           0             0   \n",
       "1    JARDIM DA PENHA             0         0           0             0   \n",
       "2      MATA DA PRAIA             0         0           0             0   \n",
       "3  PONTAL DE CAMBURI             0         0           0             0   \n",
       "4    JARDIM DA PENHA             1         1           0             0   \n",
       "\n",
       "   Attendance  \n",
       "0       False  \n",
       "1       False  \n",
       "2       False  \n",
       "3       False  \n",
       "4       False  "
      ]
     },
     "execution_count": 14,
     "metadata": {},
     "output_type": "execute_result"
    }
   ],
   "source": [
    "\n",
    "\n",
    "dr.rename(columns={'AppointmentID':'Appointment_ID',\n",
    "                          'PatientId':'Patient_Id','ScheduledDay':\"Scheduled_Day\" , \"AppointmentDay\":\"Appointment_Day\" , \"No-show\":\"Attendance\" }, inplace=True)\n",
    "dr.head()"
   ]
  },
  {
   "cell_type": "markdown",
   "metadata": {},
   "source": [
    "***"
   ]
  },
  {
   "cell_type": "markdown",
   "metadata": {},
   "source": [
    "## Exploratory Data Analysis\n",
    "---"
   ]
  },
  {
   "cell_type": "markdown",
   "metadata": {},
   "source": [
    "### <font color=blue|red|green>Question / Is there any correlation between Age and patients attending ?</font>"
   ]
  },
  {
   "cell_type": "code",
   "execution_count": 15,
   "metadata": {},
   "outputs": [],
   "source": [
    "not_attend = dr.Attendance == False\n",
    "attend = dr.Attendance == True\n",
    "\n",
    "def attendance_mean ():\n",
    " return dr.Age[attend].mean()"
   ]
  },
  {
   "cell_type": "code",
   "execution_count": 16,
   "metadata": {},
   "outputs": [],
   "source": [
    "def no_attendance_mean ():\n",
    " return dr.Age[not_attend].mean()"
   ]
  },
  {
   "cell_type": "code",
   "execution_count": 17,
   "metadata": {},
   "outputs": [
    {
     "data": {
      "text/plain": [
       "34.31766656212196"
      ]
     },
     "execution_count": 17,
     "metadata": {},
     "output_type": "execute_result"
    }
   ],
   "source": [
    "attendance_mean ()"
   ]
  },
  {
   "cell_type": "code",
   "execution_count": 18,
   "metadata": {},
   "outputs": [
    {
     "data": {
      "text/plain": [
       "37.790064393252315"
      ]
     },
     "execution_count": 18,
     "metadata": {},
     "output_type": "execute_result"
    }
   ],
   "source": [
    "no_attendance_mean ()"
   ]
  },
  {
   "cell_type": "markdown",
   "metadata": {},
   "source": [
    "#### <font color=blue|red|green|pink>Conclusion</font>\n",
    "##### <font color=red|green|pink|yellow>It is showing that the average of people's age attendance to their appointment  is 34.317 years old and the average of people's age not attendance to their appointment  is 37.7 years  , so it doesn't look to me meaningful </font>\n"
   ]
  },
  {
   "cell_type": "code",
   "execution_count": 48,
   "metadata": {},
   "outputs": [
    {
     "data": {
      "image/png": "[encoded data removed]",
      "text/plain": [
       "<Figure size 432x288 with 1 Axes>"
      ]
     },
     "metadata": {
      "needs_background": "light"
     },
     "output_type": "display_data"
    }
   ],
   "source": [
    "plt.xlabel('Patients Age')\n",
    "plt.ylabel('Patients Numbers');\n",
    "dr.Age.hist();"
   ]
  },
  {
   "cell_type": "markdown",
   "metadata": {},
   "source": [
    "---"
   ]
  },
  {
   "cell_type": "markdown",
   "metadata": {},
   "source": [
    "### <font color=blue|red|green>Question / Are people repeating coming to appointments? </font>"
   ]
  },
  {
   "cell_type": "code",
   "execution_count": 49,
   "metadata": {},
   "outputs": [],
   "source": [
    "def count_Id ():\n",
    "    return dr.Patient_Id.value_counts()"
   ]
  },
  {
   "cell_type": "code",
   "execution_count": 50,
   "metadata": {},
   "outputs": [
    {
     "data": {
      "text/plain": [
       "822145925426128.0    88\n",
       "99637671331.0        84\n",
       "26886125921145.0     70\n",
       "33534783483176.0     65\n",
       "258424392677.0       62\n",
       "75797461494159.0     62\n",
       "871374938638855.0    62\n",
       "6264198675331.0      62\n",
       "66844879846766.0     57\n",
       "872278549442.0       55\n",
       "89239687393655.0     54\n",
       "8435223536.0         51\n",
       "853439686798559.0    50\n",
       "14479974122994.0     46\n",
       "65433599726992.0     46\n",
       "81894521843749.0     42\n",
       "9452745294842.0      42\n",
       "188232341789524.0    40\n",
       "9496196639835.0      38\n",
       "2271579924275.0      38\n",
       "13364929297498.0     37\n",
       "1484143378533.0      35\n",
       "88834999836575.0     34\n",
       "986162815579582.0    34\n",
       "712458866975343.0    33\n",
       "416755661551767.0    30\n",
       "6128878448536.0      30\n",
       "81213966782532.0     29\n",
       "8634164126317.0      24\n",
       "36994987339512.0     23\n",
       "                     ..\n",
       "6375629133741.0       1\n",
       "9369127452866.0       1\n",
       "537555552769726.0     1\n",
       "166218389293.0        1\n",
       "72346149751323.0      1\n",
       "9649989773813.0       1\n",
       "69127827378.0         1\n",
       "19542647266766.0      1\n",
       "27363771232.0         1\n",
       "553269373865.0        1\n",
       "7149583186443.0       1\n",
       "86767515532224.0      1\n",
       "78383586414352.0      1\n",
       "596262497388.0        1\n",
       "49198624671749.0      1\n",
       "347734978121647.0     1\n",
       "16265947325171.0      1\n",
       "7794917251217.0       1\n",
       "11619495835628.0      1\n",
       "561536415884389.0     1\n",
       "435559215254.0        1\n",
       "1321327659915.0       1\n",
       "17519868985441.0      1\n",
       "42625785654584.0      1\n",
       "31156814844678.0      1\n",
       "12228279184665.0      1\n",
       "682123114294.0        1\n",
       "716398111513224.0     1\n",
       "979896359311416.0     1\n",
       "272457132864.0        1\n",
       "Name: Patient_Id, Length: 62299, dtype: int64"
      ]
     },
     "execution_count": 50,
     "metadata": {},
     "output_type": "execute_result"
    }
   ],
   "source": [
    "count_Id ()"
   ]
  },
  {
   "cell_type": "code",
   "execution_count": 51,
   "metadata": {},
   "outputs": [
    {
     "data": {
      "text/plain": [
       "1.77"
      ]
     },
     "execution_count": 51,
     "metadata": {},
     "output_type": "execute_result"
    }
   ],
   "source": [
    "count_Id= dr['Patient_Id'].value_counts()\n",
    "mean_Id= round(count_Id.mean(),2)\n",
    "\n",
    "mean_Id"
   ]
  },
  {
   "cell_type": "markdown",
   "metadata": {},
   "source": [
    "#### <font color=blue|red|green|pink>Conclusion</font>\n",
    "##### <font color=red|green|pink|yellow>It is showing that the average of people repeat coming to the hospital is 1.77 per patients </font>\n"
   ]
  },
  {
   "cell_type": "markdown",
   "metadata": {},
   "source": [
    "***"
   ]
  },
  {
   "cell_type": "markdown",
   "metadata": {},
   "source": [
    "## <font color=blue|red>Question / Is there any correlation between gender and patient attending? </font>"
   ]
  },
  {
   "cell_type": "code",
   "execution_count": 52,
   "metadata": {},
   "outputs": [
    {
     "data": {
      "text/plain": [
       "F    71840\n",
       "M    38687\n",
       "Name: Gender, dtype: int64"
      ]
     },
     "execution_count": 52,
     "metadata": {},
     "output_type": "execute_result"
    }
   ],
   "source": [
    "m_f= dr['Gender'].value_counts()\n",
    "\n",
    "m_f"
   ]
  },
  {
   "cell_type": "code",
   "execution_count": 53,
   "metadata": {},
   "outputs": [
    {
     "name": "stdout",
     "output_type": "stream",
     "text": [
      "Number of Female: 71840 persons\n",
      "Number of male: 38687 persons\n",
      "Percent of Female: 64.99769287142509%\n",
      "Percent of male: 35.00230712857492%\n",
      "Percent of difference: 29.995385742850168%\n"
     ]
    }
   ],
   "source": [
    "X = m_f[0]\n",
    "Y = m_f[1]\n",
    "Z = 100/(int(X)+int(Y))\n",
    "print('Number of Female: '+ str(X) + \" persons\")\n",
    "print('Number of male: '+ str(Y) + \" persons\")\n",
    "print('Percent of Female: '+str(X*Z)+'%')\n",
    "print('Percent of male: '+str(Y*Z)+'%')\n",
    "print('Percent of difference: '+str((X*Z)-(Y*Z))+'%')\n"
   ]
  },
  {
   "cell_type": "code",
   "execution_count": 54,
   "metadata": {},
   "outputs": [
    {
     "data": {
      "image/png": "[encoded data removed]",
      "text/plain": [
       "<Figure size 432x288 with 1 Axes>"
      ]
     },
     "metadata": {
      "needs_background": "light"
     },
     "output_type": "display_data"
    }
   ],
   "source": [
    "m_f.plot(kind=\"bar\", title=\"Gender statistics\");\n",
    "plt.ylabel(\"Number of Patients\");\n",
    "plt.xlabel(\"Gender\");"
   ]
  },
  {
   "cell_type": "markdown",
   "metadata": {},
   "source": [
    "#### <font color=blue|red|green|pink|yellow>Conclusion</font>\n",
    "### <font color=blue|red>It is showing that the Female is more than male for attending their medical appointment in general  , which is about 30% difference</font>\n",
    "\n",
    "\n",
    "\n",
    "---\n",
    "---"
   ]
  },
  {
   "cell_type": "markdown",
   "metadata": {},
   "source": [
    "### <font color=blue|red|green>Question / what is the percent of people having Hipertension or Diabetes ? </font>"
   ]
  },
  {
   "cell_type": "code",
   "execution_count": 55,
   "metadata": {},
   "outputs": [
    {
     "name": "stdout",
     "output_type": "stream",
     "text": [
      "Number of people NOT having Hipertension: 88726 persons\n",
      "Number of people having Hipertension: 21801 persons\n",
      "Percent of not having Hipertension: 80.27540781890399%\n",
      "Percent of people having Hipertension: 19.72459218109602%\n",
      "Number of people not having Diabetes: 102584 persons\n",
      "Number of people having Diabetes: 7943 persons\n",
      "Percent of not having Diabetes: 92.81352067820532%\n",
      "Percent of people having Diabetes: 7.186479321794675%\n",
      "Number of people not having Alcoholism: 107167 persons\n",
      "Number of people having Alcoholism: 3360 persons\n",
      "Percent of not having Alcoholism: 96.96001881893112%\n",
      "Percent of people having Alcoholism: 3.039981181068879%\n"
     ]
    }
   ],
   "source": [
    "m_h= dr['Hipertension'].value_counts()\n",
    "m_d= dr['Diabetes'].value_counts()\n",
    "m_q= dr['Alcoholism'].value_counts()\n",
    "\n",
    "Q = m_h[0]\n",
    "W = m_h[1]\n",
    "E = 100/(int(Q)+int(W))\n",
    "\n",
    "R = m_d[0]\n",
    "T = m_d[1]\n",
    "U = 100/(int(R)+int(T))\n",
    "\n",
    "I = m_q[0]\n",
    "O = m_q[1]\n",
    "P = 100/(int(I)+int(O))\n",
    "\n",
    "print('Number of people NOT having Hipertension: '+str(Q)+\" persons\")\n",
    "print('Number of people having Hipertension: '+str(W)+\" persons\")\n",
    "print('Percent of not having Hipertension: '+str(Q*E)+'%')\n",
    "print('Percent of people having Hipertension: '+str(W*E)+'%')\n",
    "#---\n",
    "print('Number of people not having Diabetes: '+str(R)+\" persons\")\n",
    "print('Number of people having Diabetes: '+str(T)+\" persons\")\n",
    "print('Percent of not having Diabetes: '+str(R*U)+'%')\n",
    "print('Percent of people having Diabetes: '+str(T*U)+'%')\n",
    "#---\n",
    "print('Number of people not having Alcoholism: '+str(I)+\" persons\")\n",
    "print('Number of people having Alcoholism: '+str(O)+\" persons\")\n",
    "print('Percent of not having Alcoholism: '+str(I*P)+'%')\n",
    "print('Percent of people having Alcoholism: '+str(P*O)+'%')\n",
    "\n"
   ]
  },
  {
   "cell_type": "code",
   "execution_count": 56,
   "metadata": {},
   "outputs": [
    {
     "data": {
      "image/png": "[encoded data removed]",
      "text/plain": [
       "<Figure size 432x288 with 1 Axes>"
      ]
     },
     "metadata": {},
     "output_type": "display_data"
    }
   ],
   "source": [
    "m_h.plot(kind=\"pie\", title=\"Hipertension statistics \");\n"
   ]
  },
  {
   "cell_type": "code",
   "execution_count": 57,
   "metadata": {},
   "outputs": [
    {
     "data": {
      "image/png": "[encoded data removed]",
      "text/plain": [
       "<Figure size 432x288 with 1 Axes>"
      ]
     },
     "metadata": {},
     "output_type": "display_data"
    }
   ],
   "source": [
    "m_d.plot(kind=\"pie\", title=\"Diabetes statistics \");\n"
   ]
  },
  {
   "cell_type": "code",
   "execution_count": 58,
   "metadata": {},
   "outputs": [
    {
     "data": {
      "image/png": "[encoded data removed]",
      "text/plain": [
       "<Figure size 432x288 with 1 Axes>"
      ]
     },
     "metadata": {},
     "output_type": "display_data"
    }
   ],
   "source": [
    "m_q.plot(kind=\"pie\", title=\"Alcoholism statistics\");\n"
   ]
  },
  {
   "cell_type": "code",
   "execution_count": 59,
   "metadata": {},
   "outputs": [
    {
     "data": {
      "text/plain": [
       "<matplotlib.axes._subplots.AxesSubplot at 0x2271c363d68>"
      ]
     },
     "execution_count": 59,
     "metadata": {},
     "output_type": "execute_result"
    },
    {
     "data": {
      "image/png": "[encoded data removed]",
      "text/plain": [
       "<Figure size 432x288 with 1 Axes>"
      ]
     },
     "metadata": {
      "needs_background": "light"
     },
     "output_type": "display_data"
    }
   ],
   "source": [
    "dr.groupby(\"Hipertension\")['Diabetes'].value_counts().plot(kind='bar')\n",
    "\n",
    "#m_e.plot(kind=\"bar\", title=\"Attending statistics \");\n",
    "#plt.ylabel(\"Number of Patients\");\n",
    "#plt.xlabel(\"Attendance\");"
   ]
  },
  {
   "cell_type": "code",
   "execution_count": 60,
   "metadata": {},
   "outputs": [
    {
     "data": {
      "text/plain": [
       "<matplotlib.axes._subplots.AxesSubplot at 0x2271c2f25f8>"
      ]
     },
     "execution_count": 60,
     "metadata": {},
     "output_type": "execute_result"
    },
    {
     "data": {
      "image/png": "[encoded data removed]",
      "text/plain": [
       "<Figure size 432x288 with 1 Axes>"
      ]
     },
     "metadata": {
      "needs_background": "light"
     },
     "output_type": "display_data"
    }
   ],
   "source": [
    "dr.groupby(\"Hipertension\")['Alcoholism'].value_counts().plot(kind='bar')\n",
    "\n"
   ]
  },
  {
   "cell_type": "code",
   "execution_count": 61,
   "metadata": {},
   "outputs": [
    {
     "data": {
      "text/plain": [
       "<matplotlib.axes._subplots.AxesSubplot at 0x2271c22d080>"
      ]
     },
     "execution_count": 61,
     "metadata": {},
     "output_type": "execute_result"
    },
    {
     "data": {
      "image/png": "[encoded data removed]",
      "text/plain": [
       "<Figure size 432x288 with 1 Axes>"
      ]
     },
     "metadata": {
      "needs_background": "light"
     },
     "output_type": "display_data"
    }
   ],
   "source": [
    "dr.groupby('Diabetes')['Alcoholism'].value_counts().plot(kind='bar')\n"
   ]
  },
  {
   "cell_type": "markdown",
   "metadata": {},
   "source": [
    "### <font color=blue|red|green|pink|yellow>Conclusion</font>\n",
    "#### <font color=blue>Number of people NOT having Hipertension: 88726 persons</font>\n",
    "#### <font color=blue>Number of people having Hipertension: 21801 persons</font>\n",
    "#### <font color=blue>Percent of not having Hipertension: 80.27%</font>\n",
    "#### <font color=blue>Percent of people having Hipertension: 19.72%</font>\n",
    "#### <font color=blue>Number of people not having Diabetes: 102584 persons</font>\n",
    "#### <font color=blue>Number of people having Diabetes: 7943 persons</font>\n",
    "#### <font color=blue>Percent of not having Diabetes: 92.81%</font>\n",
    "#### <font color=blue>Percent of people having Diabetes: 7.18%</font>\n",
    "#### <font color=blue>Number of people not having Alcoholism: 107167 persons</font>\n",
    "#### <font color=blue>Number of people having Alcoholism: 3360 persons</font>\n",
    "#### <font color=blue>Percent of not having Alcoholism: 96.96%</font>\n",
    "#### <font color=blue>Percent of people having Alcoholism: 3.03%</font>\n",
    "\n",
    "---\n",
    "\n",
    "#### <font color=blue>Percent of people having Hipertension is the most </font>\n",
    "\n",
    "-----\n"
   ]
  },
  {
   "cell_type": "markdown",
   "metadata": {},
   "source": [
    "\n",
    "### <font color=blue|red|green>Question / Are most patients showing up for their appointment or not? </font>"
   ]
  },
  {
   "cell_type": "code",
   "execution_count": 62,
   "metadata": {},
   "outputs": [
    {
     "data": {
      "text/plain": [
       "False    88208\n",
       "True     22319\n",
       "Name: Attendance, dtype: int64"
      ]
     },
     "execution_count": 62,
     "metadata": {},
     "output_type": "execute_result"
    }
   ],
   "source": [
    "m_e= dr['Attendance'].value_counts()\n",
    "\n",
    "m_e"
   ]
  },
  {
   "cell_type": "code",
   "execution_count": 63,
   "metadata": {},
   "outputs": [
    {
     "name": "stdout",
     "output_type": "stream",
     "text": [
      "Number of people not attend: 88208 persons\n",
      "Number of people attend: 22319 persons\n",
      "Percent of not attend: 79.8067440534892%\n",
      "Percent of people attend: 20.193255946510806%\n",
      "Percent of difference: 59.613488106978394%\n"
     ]
    }
   ],
   "source": [
    "X = m_e[0]\n",
    "Y = m_e[1]\n",
    "Z = 100/(int(X)+int(Y))\n",
    "print('Number of people not attend: '+str(X)+\" persons\")\n",
    "print('Number of people attend: '+str(Y)+\" persons\")\n",
    "print('Percent of not attend: '+str(X*Z)+'%')\n",
    "print('Percent of people attend: '+str(Y*Z)+'%')\n",
    "print('Percent of difference: '+str((X*Z)-(Y*Z))+'%')"
   ]
  },
  {
   "cell_type": "code",
   "execution_count": 64,
   "metadata": {},
   "outputs": [
    {
     "data": {
      "image/png": "[encoded data removed]",
      "text/plain": [
       "<Figure size 432x288 with 1 Axes>"
      ]
     },
     "metadata": {
      "needs_background": "light"
     },
     "output_type": "display_data"
    }
   ],
   "source": [
    "m_e.plot(kind=\"bar\", title=\"Attending statistics \");\n",
    "plt.ylabel(\"Number of Patients\");\n",
    "plt.xlabel(\"Attendance\");"
   ]
  },
  {
   "cell_type": "markdown",
   "metadata": {},
   "source": [
    "#### <font color=blue|red|green|pink|yellow>Conclusion</font>\n",
    "### <font color=blue>it is showing that most perople are not attending , which is about 79.8% </font>\n",
    "\n",
    "\n",
    "---"
   ]
  },
  {
   "cell_type": "markdown",
   "metadata": {},
   "source": [
    "### <font color=blue|red|green>Question / Are most patients receiving SMS for their appointment or not? </font>"
   ]
  },
  {
   "cell_type": "code",
   "execution_count": 65,
   "metadata": {},
   "outputs": [
    {
     "data": {
      "text/plain": [
       "0    75045\n",
       "1    35482\n",
       "Name: SMS_received, dtype: int64"
      ]
     },
     "execution_count": 65,
     "metadata": {},
     "output_type": "execute_result"
    }
   ],
   "source": [
    "m_a= dr['SMS_received'].value_counts()\n",
    "\n",
    "m_a"
   ]
  },
  {
   "cell_type": "code",
   "execution_count": 66,
   "metadata": {},
   "outputs": [
    {
     "name": "stdout",
     "output_type": "stream",
     "text": [
      "Number of people not recieving SMS: 75045 persons\n",
      "Number of recieving SMS: 35482 persons\n",
      "Percent of people not recieving SMS: 67.89743682539108%\n",
      "Percent of people recieving SMS: 32.10256317460892%\n",
      "Percent of difference: 35.794873650782165%\n"
     ]
    }
   ],
   "source": [
    "X = m_a[0]\n",
    "Y = m_a[1]\n",
    "Z = 100/(int(X)+int(Y))\n",
    "print('Number of people not recieving SMS: '+str(X)+\" persons\")\n",
    "print('Number of recieving SMS: '+str(Y)+\" persons\")\n",
    "print('Percent of people not recieving SMS: '+str(X*Z)+'%')\n",
    "print('Percent of people recieving SMS: '+str(Y*Z)+'%')\n",
    "print('Percent of difference: '+str((X*Z)-(Y*Z))+'%')"
   ]
  },
  {
   "cell_type": "code",
   "execution_count": 67,
   "metadata": {},
   "outputs": [
    {
     "data": {
      "image/png": "[encoded data removed]",
      "text/plain": [
       "<Figure size 432x288 with 1 Axes>"
      ]
     },
     "metadata": {
      "needs_background": "light"
     },
     "output_type": "display_data"
    }
   ],
   "source": [
    "m_a.plot(kind=\"bar\", title=\"statistics of recieving SMS \");\n",
    "plt.ylabel(\"Number of Patients\");\n",
    "plt.xlabel(\"how much recieving SMS \");"
   ]
  },
  {
   "cell_type": "markdown",
   "metadata": {},
   "source": [
    "<font color=blue|green>it is showing that most perople are not recieving SMS , which is about 67.8%  and in the same time most perople are not attending , which is about 79.8% from the precious question   </font>\n",
    "\n",
    "\n",
    "---"
   ]
  },
  {
   "cell_type": "markdown",
   "metadata": {},
   "source": [
    "---\n",
    "\n",
    "---\n",
    "\n",
    "### <font color=blue|pink|yellow>Question / Are there any relation between Number of patients and the appointment time after registered?</font>\n",
    "\n"
   ]
  },
  {
   "cell_type": "code",
   "execution_count": 68,
   "metadata": {},
   "outputs": [
    {
     "data": {
      "text/html": [
       "<div>\n",
       "<style scoped>\n",
       "    .dataframe tbody tr th:only-of-type {\n",
       "        vertical-align: middle;\n",
       "    }\n",
       "\n",
       "    .dataframe tbody tr th {\n",
       "        vertical-align: top;\n",
       "    }\n",
       "\n",
       "    .dataframe thead th {\n",
       "        text-align: right;\n",
       "    }\n",
       "</style>\n",
       "<table border=\"1\" class=\"dataframe\">\n",
       "  <thead>\n",
       "    <tr style=\"text-align: right;\">\n",
       "      <th></th>\n",
       "      <th>Patient_Id</th>\n",
       "      <th>Appointment_ID</th>\n",
       "      <th>Gender</th>\n",
       "      <th>Scheduled_Day</th>\n",
       "      <th>Appointment_Day</th>\n",
       "      <th>Age</th>\n",
       "      <th>Neighbourhood</th>\n",
       "      <th>Hipertension</th>\n",
       "      <th>Diabetes</th>\n",
       "      <th>Alcoholism</th>\n",
       "      <th>SMS_received</th>\n",
       "      <th>Attendance</th>\n",
       "      <th>Appointment_dif</th>\n",
       "    </tr>\n",
       "  </thead>\n",
       "  <tbody>\n",
       "    <tr>\n",
       "      <th>0</th>\n",
       "      <td>29872499824296.0</td>\n",
       "      <td>5642903</td>\n",
       "      <td>F</td>\n",
       "      <td>2016-04-29</td>\n",
       "      <td>2016-04-29</td>\n",
       "      <td>62</td>\n",
       "      <td>JARDIM DA PENHA</td>\n",
       "      <td>1</td>\n",
       "      <td>0</td>\n",
       "      <td>0</td>\n",
       "      <td>0</td>\n",
       "      <td>False</td>\n",
       "      <td>0 days</td>\n",
       "    </tr>\n",
       "    <tr>\n",
       "      <th>1</th>\n",
       "      <td>558997776694438.0</td>\n",
       "      <td>5642503</td>\n",
       "      <td>M</td>\n",
       "      <td>2016-04-29</td>\n",
       "      <td>2016-04-29</td>\n",
       "      <td>56</td>\n",
       "      <td>JARDIM DA PENHA</td>\n",
       "      <td>0</td>\n",
       "      <td>0</td>\n",
       "      <td>0</td>\n",
       "      <td>0</td>\n",
       "      <td>False</td>\n",
       "      <td>0 days</td>\n",
       "    </tr>\n",
       "    <tr>\n",
       "      <th>2</th>\n",
       "      <td>4262962299951.0</td>\n",
       "      <td>5642549</td>\n",
       "      <td>F</td>\n",
       "      <td>2016-04-29</td>\n",
       "      <td>2016-04-29</td>\n",
       "      <td>62</td>\n",
       "      <td>MATA DA PRAIA</td>\n",
       "      <td>0</td>\n",
       "      <td>0</td>\n",
       "      <td>0</td>\n",
       "      <td>0</td>\n",
       "      <td>False</td>\n",
       "      <td>0 days</td>\n",
       "    </tr>\n",
       "    <tr>\n",
       "      <th>3</th>\n",
       "      <td>867951213174.0</td>\n",
       "      <td>5642828</td>\n",
       "      <td>F</td>\n",
       "      <td>2016-04-29</td>\n",
       "      <td>2016-04-29</td>\n",
       "      <td>8</td>\n",
       "      <td>PONTAL DE CAMBURI</td>\n",
       "      <td>0</td>\n",
       "      <td>0</td>\n",
       "      <td>0</td>\n",
       "      <td>0</td>\n",
       "      <td>False</td>\n",
       "      <td>0 days</td>\n",
       "    </tr>\n",
       "    <tr>\n",
       "      <th>4</th>\n",
       "      <td>8841186448183.0</td>\n",
       "      <td>5642494</td>\n",
       "      <td>F</td>\n",
       "      <td>2016-04-29</td>\n",
       "      <td>2016-04-29</td>\n",
       "      <td>56</td>\n",
       "      <td>JARDIM DA PENHA</td>\n",
       "      <td>1</td>\n",
       "      <td>1</td>\n",
       "      <td>0</td>\n",
       "      <td>0</td>\n",
       "      <td>False</td>\n",
       "      <td>0 days</td>\n",
       "    </tr>\n",
       "    <tr>\n",
       "      <th>5</th>\n",
       "      <td>95985133231274.0</td>\n",
       "      <td>5626772</td>\n",
       "      <td>F</td>\n",
       "      <td>2016-04-27</td>\n",
       "      <td>2016-04-29</td>\n",
       "      <td>76</td>\n",
       "      <td>REPÚBLICA</td>\n",
       "      <td>1</td>\n",
       "      <td>0</td>\n",
       "      <td>0</td>\n",
       "      <td>0</td>\n",
       "      <td>False</td>\n",
       "      <td>2 days</td>\n",
       "    </tr>\n",
       "    <tr>\n",
       "      <th>6</th>\n",
       "      <td>733688164476661.0</td>\n",
       "      <td>5630279</td>\n",
       "      <td>F</td>\n",
       "      <td>2016-04-27</td>\n",
       "      <td>2016-04-29</td>\n",
       "      <td>23</td>\n",
       "      <td>GOIABEIRAS</td>\n",
       "      <td>0</td>\n",
       "      <td>0</td>\n",
       "      <td>0</td>\n",
       "      <td>0</td>\n",
       "      <td>True</td>\n",
       "      <td>2 days</td>\n",
       "    </tr>\n",
       "    <tr>\n",
       "      <th>7</th>\n",
       "      <td>3449833394123.0</td>\n",
       "      <td>5630575</td>\n",
       "      <td>F</td>\n",
       "      <td>2016-04-27</td>\n",
       "      <td>2016-04-29</td>\n",
       "      <td>39</td>\n",
       "      <td>GOIABEIRAS</td>\n",
       "      <td>0</td>\n",
       "      <td>0</td>\n",
       "      <td>0</td>\n",
       "      <td>0</td>\n",
       "      <td>True</td>\n",
       "      <td>2 days</td>\n",
       "    </tr>\n",
       "    <tr>\n",
       "      <th>8</th>\n",
       "      <td>56394729949972.0</td>\n",
       "      <td>5638447</td>\n",
       "      <td>F</td>\n",
       "      <td>2016-04-29</td>\n",
       "      <td>2016-04-29</td>\n",
       "      <td>21</td>\n",
       "      <td>ANDORINHAS</td>\n",
       "      <td>0</td>\n",
       "      <td>0</td>\n",
       "      <td>0</td>\n",
       "      <td>0</td>\n",
       "      <td>False</td>\n",
       "      <td>0 days</td>\n",
       "    </tr>\n",
       "    <tr>\n",
       "      <th>9</th>\n",
       "      <td>78124564369297.0</td>\n",
       "      <td>5629123</td>\n",
       "      <td>F</td>\n",
       "      <td>2016-04-27</td>\n",
       "      <td>2016-04-29</td>\n",
       "      <td>19</td>\n",
       "      <td>CONQUISTA</td>\n",
       "      <td>0</td>\n",
       "      <td>0</td>\n",
       "      <td>0</td>\n",
       "      <td>0</td>\n",
       "      <td>False</td>\n",
       "      <td>2 days</td>\n",
       "    </tr>\n",
       "    <tr>\n",
       "      <th>10</th>\n",
       "      <td>734536231958495.0</td>\n",
       "      <td>5630213</td>\n",
       "      <td>F</td>\n",
       "      <td>2016-04-27</td>\n",
       "      <td>2016-04-29</td>\n",
       "      <td>30</td>\n",
       "      <td>NOVA PALESTINA</td>\n",
       "      <td>0</td>\n",
       "      <td>0</td>\n",
       "      <td>0</td>\n",
       "      <td>0</td>\n",
       "      <td>False</td>\n",
       "      <td>2 days</td>\n",
       "    </tr>\n",
       "    <tr>\n",
       "      <th>11</th>\n",
       "      <td>7542951368435.0</td>\n",
       "      <td>5620163</td>\n",
       "      <td>M</td>\n",
       "      <td>2016-04-26</td>\n",
       "      <td>2016-04-29</td>\n",
       "      <td>29</td>\n",
       "      <td>NOVA PALESTINA</td>\n",
       "      <td>0</td>\n",
       "      <td>0</td>\n",
       "      <td>0</td>\n",
       "      <td>1</td>\n",
       "      <td>True</td>\n",
       "      <td>3 days</td>\n",
       "    </tr>\n",
       "    <tr>\n",
       "      <th>12</th>\n",
       "      <td>566654781423437.0</td>\n",
       "      <td>5634718</td>\n",
       "      <td>F</td>\n",
       "      <td>2016-04-28</td>\n",
       "      <td>2016-04-29</td>\n",
       "      <td>22</td>\n",
       "      <td>NOVA PALESTINA</td>\n",
       "      <td>0</td>\n",
       "      <td>0</td>\n",
       "      <td>0</td>\n",
       "      <td>0</td>\n",
       "      <td>False</td>\n",
       "      <td>1 days</td>\n",
       "    </tr>\n",
       "    <tr>\n",
       "      <th>13</th>\n",
       "      <td>911394617215919.0</td>\n",
       "      <td>5636249</td>\n",
       "      <td>M</td>\n",
       "      <td>2016-04-28</td>\n",
       "      <td>2016-04-29</td>\n",
       "      <td>28</td>\n",
       "      <td>NOVA PALESTINA</td>\n",
       "      <td>0</td>\n",
       "      <td>0</td>\n",
       "      <td>0</td>\n",
       "      <td>0</td>\n",
       "      <td>False</td>\n",
       "      <td>1 days</td>\n",
       "    </tr>\n",
       "    <tr>\n",
       "      <th>14</th>\n",
       "      <td>99884723334928.0</td>\n",
       "      <td>5633951</td>\n",
       "      <td>F</td>\n",
       "      <td>2016-04-28</td>\n",
       "      <td>2016-04-29</td>\n",
       "      <td>54</td>\n",
       "      <td>NOVA PALESTINA</td>\n",
       "      <td>0</td>\n",
       "      <td>0</td>\n",
       "      <td>0</td>\n",
       "      <td>0</td>\n",
       "      <td>False</td>\n",
       "      <td>1 days</td>\n",
       "    </tr>\n",
       "    <tr>\n",
       "      <th>15</th>\n",
       "      <td>99948393975.0</td>\n",
       "      <td>5620206</td>\n",
       "      <td>F</td>\n",
       "      <td>2016-04-26</td>\n",
       "      <td>2016-04-29</td>\n",
       "      <td>15</td>\n",
       "      <td>NOVA PALESTINA</td>\n",
       "      <td>0</td>\n",
       "      <td>0</td>\n",
       "      <td>0</td>\n",
       "      <td>1</td>\n",
       "      <td>False</td>\n",
       "      <td>3 days</td>\n",
       "    </tr>\n",
       "    <tr>\n",
       "      <th>16</th>\n",
       "      <td>84574392942817.0</td>\n",
       "      <td>5633121</td>\n",
       "      <td>M</td>\n",
       "      <td>2016-04-28</td>\n",
       "      <td>2016-04-29</td>\n",
       "      <td>50</td>\n",
       "      <td>NOVA PALESTINA</td>\n",
       "      <td>0</td>\n",
       "      <td>0</td>\n",
       "      <td>0</td>\n",
       "      <td>0</td>\n",
       "      <td>False</td>\n",
       "      <td>1 days</td>\n",
       "    </tr>\n",
       "    <tr>\n",
       "      <th>17</th>\n",
       "      <td>14794966191172.0</td>\n",
       "      <td>5633460</td>\n",
       "      <td>F</td>\n",
       "      <td>2016-04-28</td>\n",
       "      <td>2016-04-29</td>\n",
       "      <td>40</td>\n",
       "      <td>CONQUISTA</td>\n",
       "      <td>0</td>\n",
       "      <td>0</td>\n",
       "      <td>0</td>\n",
       "      <td>0</td>\n",
       "      <td>True</td>\n",
       "      <td>1 days</td>\n",
       "    </tr>\n",
       "    <tr>\n",
       "      <th>18</th>\n",
       "      <td>17135378245248.0</td>\n",
       "      <td>5621836</td>\n",
       "      <td>F</td>\n",
       "      <td>2016-04-26</td>\n",
       "      <td>2016-04-29</td>\n",
       "      <td>30</td>\n",
       "      <td>NOVA PALESTINA</td>\n",
       "      <td>0</td>\n",
       "      <td>0</td>\n",
       "      <td>0</td>\n",
       "      <td>1</td>\n",
       "      <td>False</td>\n",
       "      <td>3 days</td>\n",
       "    </tr>\n",
       "    <tr>\n",
       "      <th>19</th>\n",
       "      <td>7223289184215.0</td>\n",
       "      <td>5640433</td>\n",
       "      <td>F</td>\n",
       "      <td>2016-04-29</td>\n",
       "      <td>2016-04-29</td>\n",
       "      <td>46</td>\n",
       "      <td>DA PENHA</td>\n",
       "      <td>0</td>\n",
       "      <td>0</td>\n",
       "      <td>0</td>\n",
       "      <td>0</td>\n",
       "      <td>False</td>\n",
       "      <td>0 days</td>\n",
       "    </tr>\n",
       "  </tbody>\n",
       "</table>\n",
       "</div>"
      ],
      "text/plain": [
       "          Patient_Id  Appointment_ID Gender Scheduled_Day Appointment_Day  \\\n",
       "0   29872499824296.0         5642903      F    2016-04-29      2016-04-29   \n",
       "1  558997776694438.0         5642503      M    2016-04-29      2016-04-29   \n",
       "2    4262962299951.0         5642549      F    2016-04-29      2016-04-29   \n",
       "3     867951213174.0         5642828      F    2016-04-29      2016-04-29   \n",
       "4    8841186448183.0         5642494      F    2016-04-29      2016-04-29   \n",
       "5   95985133231274.0         5626772      F    2016-04-27      2016-04-29   \n",
       "6  733688164476661.0         5630279      F    2016-04-27      2016-04-29   \n",
       "7    3449833394123.0         5630575      F    2016-04-27      2016-04-29   \n",
       "8   56394729949972.0         5638447      F    2016-04-29      2016-04-29   \n",
       "9   78124564369297.0         5629123      F    2016-04-27      2016-04-29   \n",
       "10 734536231958495.0         5630213      F    2016-04-27      2016-04-29   \n",
       "11   7542951368435.0         5620163      M    2016-04-26      2016-04-29   \n",
       "12 566654781423437.0         5634718      F    2016-04-28      2016-04-29   \n",
       "13 911394617215919.0         5636249      M    2016-04-28      2016-04-29   \n",
       "14  99884723334928.0         5633951      F    2016-04-28      2016-04-29   \n",
       "15     99948393975.0         5620206      F    2016-04-26      2016-04-29   \n",
       "16  84574392942817.0         5633121      M    2016-04-28      2016-04-29   \n",
       "17  14794966191172.0         5633460      F    2016-04-28      2016-04-29   \n",
       "18  17135378245248.0         5621836      F    2016-04-26      2016-04-29   \n",
       "19   7223289184215.0         5640433      F    2016-04-29      2016-04-29   \n",
       "\n",
       "    Age      Neighbourhood  Hipertension  Diabetes  Alcoholism  SMS_received  \\\n",
       "0    62    JARDIM DA PENHA             1         0           0             0   \n",
       "1    56    JARDIM DA PENHA             0         0           0             0   \n",
       "2    62      MATA DA PRAIA             0         0           0             0   \n",
       "3     8  PONTAL DE CAMBURI             0         0           0             0   \n",
       "4    56    JARDIM DA PENHA             1         1           0             0   \n",
       "5    76          REPÚBLICA             1         0           0             0   \n",
       "6    23         GOIABEIRAS             0         0           0             0   \n",
       "7    39         GOIABEIRAS             0         0           0             0   \n",
       "8    21         ANDORINHAS             0         0           0             0   \n",
       "9    19          CONQUISTA             0         0           0             0   \n",
       "10   30     NOVA PALESTINA             0         0           0             0   \n",
       "11   29     NOVA PALESTINA             0         0           0             1   \n",
       "12   22     NOVA PALESTINA             0         0           0             0   \n",
       "13   28     NOVA PALESTINA             0         0           0             0   \n",
       "14   54     NOVA PALESTINA             0         0           0             0   \n",
       "15   15     NOVA PALESTINA             0         0           0             1   \n",
       "16   50     NOVA PALESTINA             0         0           0             0   \n",
       "17   40          CONQUISTA             0         0           0             0   \n",
       "18   30     NOVA PALESTINA             0         0           0             1   \n",
       "19   46           DA PENHA             0         0           0             0   \n",
       "\n",
       "    Attendance Appointment_dif  \n",
       "0        False          0 days  \n",
       "1        False          0 days  \n",
       "2        False          0 days  \n",
       "3        False          0 days  \n",
       "4        False          0 days  \n",
       "5        False          2 days  \n",
       "6         True          2 days  \n",
       "7         True          2 days  \n",
       "8        False          0 days  \n",
       "9        False          2 days  \n",
       "10       False          2 days  \n",
       "11        True          3 days  \n",
       "12       False          1 days  \n",
       "13       False          1 days  \n",
       "14       False          1 days  \n",
       "15       False          3 days  \n",
       "16       False          1 days  \n",
       "17        True          1 days  \n",
       "18       False          3 days  \n",
       "19       False          0 days  "
      ]
     },
     "execution_count": 68,
     "metadata": {},
     "output_type": "execute_result"
    }
   ],
   "source": [
    "dr['Appointment_dif']=dr['Appointment_Day'] - dr['Scheduled_Day']\n",
    "dr.head(20)"
   ]
  },
  {
   "cell_type": "code",
   "execution_count": 69,
   "metadata": {},
   "outputs": [
    {
     "data": {
      "text/plain": [
       "0 days      38563\n",
       "2 days       6725\n",
       "4 days       5290\n",
       "1 days       5213\n",
       "7 days       4906\n",
       "6 days       4037\n",
       "5 days       3277\n",
       "14 days      2913\n",
       "3 days       2737\n",
       "8 days       2332\n",
       "21 days      1861\n",
       "28 days      1706\n",
       "13 days      1682\n",
       "9 days       1605\n",
       "15 days      1503\n",
       "10 days      1391\n",
       "20 days      1187\n",
       "22 days      1173\n",
       "16 days      1151\n",
       "12 days      1115\n",
       "17 days      1107\n",
       "29 days      1089\n",
       "19 days      1044\n",
       "18 days      1021\n",
       "27 days      1013\n",
       "11 days       987\n",
       "35 days       963\n",
       "23 days       822\n",
       "34 days       808\n",
       "26 days       731\n",
       "            ...  \n",
       "109 days        5\n",
       "98 days         5\n",
       "95 days         5\n",
       "111 days        5\n",
       "112 days        5\n",
       "102 days        4\n",
       "119 days        4\n",
       "96 days         4\n",
       "105 days        4\n",
       "-1 days         4\n",
       "92 days         3\n",
       "122 days        3\n",
       "94 days         2\n",
       "110 days        2\n",
       "107 days        2\n",
       "97 days         2\n",
       "93 days         2\n",
       "115 days        2\n",
       "117 days        1\n",
       "127 days        1\n",
       "151 days        1\n",
       "125 days        1\n",
       "126 days        1\n",
       "101 days        1\n",
       "82 days         1\n",
       "139 days        1\n",
       "123 days        1\n",
       "146 days        1\n",
       "-6 days         1\n",
       "132 days        1\n",
       "Name: Appointment_dif, Length: 131, dtype: int64"
      ]
     },
     "execution_count": 69,
     "metadata": {},
     "output_type": "execute_result"
    }
   ],
   "source": [
    "m_m= dr['Appointment_dif'].value_counts()\n",
    "m_m"
   ]
  },
  {
   "cell_type": "code",
   "execution_count": 70,
   "metadata": {},
   "outputs": [
    {
     "data": {
      "image/png": "[encoded data removed]",
      "text/plain": [
       "<Figure size 432x288 with 1 Axes>"
      ]
     },
     "metadata": {
      "needs_background": "light"
     },
     "output_type": "display_data"
    }
   ],
   "source": [
    "m_m[:25].plot.bar(orientation='vertical')\n",
    "plt.title('Analysis of Number of pateints and the appintment time after regestred')\n",
    "plt.xlabel('Days between Schedule Day and Appointment Day')\n",
    "plt.ylabel('Number of pateints');"
   ]
  },
  {
   "cell_type": "markdown",
   "metadata": {},
   "source": [
    "---\n",
    "\n",
    "### <font color=blue|red|green>Question / Is there any correlation between the Neighbourhood and the number of patients</font>\n"
   ]
  },
  {
   "cell_type": "code",
   "execution_count": 71,
   "metadata": {},
   "outputs": [
    {
     "data": {
      "text/plain": [
       "JARDIM CAMBURI                 7717\n",
       "MARIA ORTIZ                    5805\n",
       "RESISTÊNCIA                    4431\n",
       "JARDIM DA PENHA                3877\n",
       "ITARARÉ                        3514\n",
       "CENTRO                         3334\n",
       "TABUAZEIRO                     3132\n",
       "SANTA MARTHA                   3131\n",
       "JESUS DE NAZARETH              2853\n",
       "BONFIM                         2773\n",
       "SANTO ANTÔNIO                  2746\n",
       "SANTO ANDRÉ                    2571\n",
       "CARATOÍRA                      2565\n",
       "JABOUR                         2509\n",
       "SÃO PEDRO                      2448\n",
       "ILHA DO PRÍNCIPE               2266\n",
       "NOVA PALESTINA                 2264\n",
       "ANDORINHAS                     2262\n",
       "DA PENHA                       2217\n",
       "ROMÃO                          2215\n",
       "GURIGICA                       2018\n",
       "SÃO JOSÉ                       1977\n",
       "BELA VISTA                     1907\n",
       "MARUÍPE                        1902\n",
       "FORTE SÃO JOÃO                 1889\n",
       "ILHA DE SANTA MARIA            1885\n",
       "SÃO CRISTÓVÃO                  1836\n",
       "REDENÇÃO                       1553\n",
       "SÃO BENEDITO                   1439\n",
       "JOANA D´ARC                    1427\n",
       "                               ... \n",
       "SANTOS REIS                     547\n",
       "ESTRELINHA                      538\n",
       "SANTA CLARA                     506\n",
       "SOLON BORGES                    469\n",
       "PIEDADE                         452\n",
       "SANTA CECÍLIA                   448\n",
       "SANTA LÚCIA                     438\n",
       "SANTA LUÍZA                     428\n",
       "BARRO VERMELHO                  423\n",
       "DO MOSCOSO                      413\n",
       "MÁRIO CYPRESTE                  371\n",
       "BOA VISTA                       312\n",
       "COMDUSA                         310\n",
       "DE LOURDES                      305\n",
       "ARIOVALDO FAVALESSA             282\n",
       "ANTÔNIO HONÓRIO                 271\n",
       "FRADINHOS                       258\n",
       "ENSEADA DO SUÁ                  235\n",
       "SANTA HELENA                    178\n",
       "HORTO                           175\n",
       "UNIVERSITÁRIO                   152\n",
       "SEGURANÇA DO LAR                145\n",
       "NAZARETH                        135\n",
       "MORADA DE CAMBURI                96\n",
       "PONTAL DE CAMBURI                69\n",
       "ILHA DO BOI                      35\n",
       "ILHA DO FRADE                    10\n",
       "AEROPORTO                         8\n",
       "ILHAS OCEÂNICAS DE TRINDADE       2\n",
       "PARQUE INDUSTRIAL                 1\n",
       "Name: Neighbourhood, Length: 81, dtype: int64"
      ]
     },
     "execution_count": 71,
     "metadata": {},
     "output_type": "execute_result"
    }
   ],
   "source": [
    "m_c= dr['Neighbourhood'].value_counts()\n",
    "\n",
    "m_c"
   ]
  },
  {
   "cell_type": "code",
   "execution_count": 72,
   "metadata": {},
   "outputs": [
    {
     "data": {
      "image/png": "[encoded data removed]",
      "text/plain": [
       "<Figure size 1008x1008 with 1 Axes>"
      ]
     },
     "metadata": {
      "needs_background": "light"
     },
     "output_type": "display_data"
    }
   ],
   "source": [
    "m_c.plot(kind=\"barh\", figsize=(14,14), title=\"Neighbourhood components analysis\");\n",
    "plt.xlabel(\"Count\");\n",
    "plt.ylabel(\"Neighbourhood components analysis\");"
   ]
  },
  {
   "cell_type": "markdown",
   "metadata": {},
   "source": [
    "##### <font color=blue|red|green|pink|yellow>Conclusion</font>\n",
    "#### <font color=red|green|pink|yellow>As we can see , most patients are from JARDIM CAMBURI or most hospital in this database from JARDIM CAMBURI which is about 7717 patients</font>\n",
    "\n",
    "---"
   ]
  },
  {
   "cell_type": "markdown",
   "metadata": {},
   "source": [
    "---"
   ]
  },
  {
   "cell_type": "markdown",
   "metadata": {},
   "source": [
    "## <font color=blue|red|pink|yellow>Limitations</font>\n",
    "\n",
    "<font color=red|pink|yellow>I analyzed the dataset but some columns I couldn’t understand it very well because I didn’t collect the data by myself , Also some skills I couldn’t be perfect with because this is the first time I do project in analyzing data. Also Documentation was not clear such as scholarship details so I dropped some columns .</font>\n",
    "\n"
   ]
  },
  {
   "cell_type": "markdown",
   "metadata": {},
   "source": [
    "## <font color=blue|green|pink|yellow>Conclusion</font>\n",
    "\n",
    "<font color=blue|green|pink>After understanding the data and explored it , I answer the question after every part of analysis . Also I can say most people are having an issue with attending  to their appointment which is about 79.8% . Also I conclude that there is no strong relation between the age and the gender  but there is for the Neighborhood. One solution is to provide them with SMS because most people are not receiving SMS which is about 67.8% as the analysis show .Furthermore, It is showing that the Female is more than male for attending health care in general , which is about 30% difference.</font>"
   ]
  }
 ],
 "metadata": {
  "kernelspec": {
   "display_name": "Python 3",
   "language": "python",
   "name": "python3"
  },
  "language_info": {
   "codemirror_mode": {
    "name": "ipython",
    "version": 3
   },
   "file_extension": ".py",
   "mimetype": "text/x-python",
   "name": "python",
   "nbconvert_exporter": "python",
   "pygments_lexer": "ipython3",
   "version": "3.7.5"
  }
 },
 "nbformat": 4,
 "nbformat_minor": 2
}
